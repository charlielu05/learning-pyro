{
 "cells": [
  {
   "cell_type": "code",
   "execution_count": 85,
   "metadata": {},
   "outputs": [],
   "source": [
    "from IPython.display import Image\n",
    "from IPython.core.display import HTML \n",
    "import pyro\n",
    "import torch\n",
    "from torch.distributions.constraints import unit_interval\n",
    "from pyro.distributions import Bernoulli\n",
    "import pyro.distributions as dist\n",
    "import numpy as np\n",
    "from torch.distributions import constraints\n",
    "from pyro import poutine\n",
    "import pandas as pd\n",
    "from pyro.infer.mcmc import MCMC\n",
    "from pyro.infer.mcmc.nuts import HMC\n",
    "from pyro.infer import EmpiricalMarginal\n",
    "import matplotlib.pyplot as plt\n",
    "from pyro.infer import SVI, Trace_ELBO, TraceEnum_ELBO, config_enumerate, infer_discrete\n",
    "from pyro.optim import Adam"
   ]
  },
  {
   "cell_type": "code",
   "execution_count": 2,
   "metadata": {},
   "outputs": [],
   "source": [
    "pyro.enable_validation()\n",
    "pyro.set_rng_seed(0)"
   ]
  },
  {
   "cell_type": "code",
   "execution_count": 3,
   "metadata": {},
   "outputs": [],
   "source": [
    "%matplotlib inline"
   ]
  },
  {
   "cell_type": "code",
   "execution_count": 4,
   "metadata": {
    "scrolled": false
   },
   "outputs": [
    {
     "data": {
      "text/html": [
       "<img src=\"https://i.stack.imgur.com/t99mv.png\"/>"
      ],
      "text/plain": [
       "<IPython.core.display.Image object>"
      ]
     },
     "execution_count": 4,
     "metadata": {},
     "output_type": "execute_result"
    }
   ],
   "source": [
    "Image(url= \"https://i.stack.imgur.com/t99mv.png\")"
   ]
  },
  {
   "cell_type": "code",
   "execution_count": 30,
   "metadata": {},
   "outputs": [],
   "source": [
    "def model():\n",
    "    p_rain = pyro.param(\"p_rain\", torch.tensor(0.2), constraint=unit_interval)\n",
    "    p_sprinkler = pyro.param(\"p_sprinkler\", torch.tensor([0.4, 0.01]),\n",
    "                             constraint=unit_interval)\n",
    "    p_wet = pyro.param(\"p_wet\", torch.tensor([[0.0, 0.9], [0.8, 0.99]]),\n",
    "                       constraint=unit_interval)\n",
    "\n",
    "    rain = pyro.sample(\"rain\", Bernoulli(p_rain))\n",
    "    sprinkler = pyro.sample(\"sprinkler\",\n",
    "                            Bernoulli(p_sprinkler[rain.long()]))\n",
    "    wet = pyro.sample(\"wet\", Bernoulli(p_wet[rain.long(), sprinkler.long()]))\n",
    "    return wet"
   ]
  },
  {
   "cell_type": "markdown",
   "metadata": {},
   "source": [
    "## Inference: Going backwards"
   ]
  },
  {
   "cell_type": "markdown",
   "metadata": {},
   "source": [
    "Condition the model on an observation of Grass being wet"
   ]
  },
  {
   "cell_type": "code",
   "execution_count": 32,
   "metadata": {},
   "outputs": [],
   "source": [
    "conditioned_model = pyro.condition(model, data={'wet': torch.tensor(1.)})"
   ]
  },
  {
   "cell_type": "code",
   "execution_count": 34,
   "metadata": {},
   "outputs": [],
   "source": [
    "posterior = pyro.infer.Importance(conditioned_model, num_samples=5000).run()"
   ]
  },
  {
   "cell_type": "code",
   "execution_count": 35,
   "metadata": {},
   "outputs": [],
   "source": [
    "marginal = pyro.infer.EmpiricalMarginal(posterior, \"rain\")"
   ]
  },
  {
   "cell_type": "code",
   "execution_count": 36,
   "metadata": {},
   "outputs": [],
   "source": [
    "rain_samples = np.array([marginal().item() for _ in range(10000)])"
   ]
  },
  {
   "cell_type": "code",
   "execution_count": 37,
   "metadata": {},
   "outputs": [
    {
     "data": {
      "text/plain": [
       "0.3491"
      ]
     },
     "execution_count": 37,
     "metadata": {},
     "output_type": "execute_result"
    }
   ],
   "source": [
    "rain_samples.mean()"
   ]
  },
  {
   "cell_type": "markdown",
   "metadata": {},
   "source": [
    "Re-writing the params by using categorical variables"
   ]
  },
  {
   "cell_type": "markdown",
   "metadata": {},
   "source": [
    "Following code samples from (https://github.com/robertness/causalML/blob/7c196d1bd21a9ac168a198aba149a7bb6fd4b69b/tutorials/introduction/intro_to_generative_ML_with_Pyro.ipynb)"
   ]
  },
  {
   "cell_type": "code",
   "execution_count": 21,
   "metadata": {},
   "outputs": [
    {
     "data": {
      "text/html": [
       "<img src=\"https://i.stack.imgur.com/t99mv.png\"/>"
      ],
      "text/plain": [
       "<IPython.core.display.Image object>"
      ]
     },
     "execution_count": 21,
     "metadata": {},
     "output_type": "execute_result"
    }
   ],
   "source": [
    "Image(url= \"https://i.stack.imgur.com/t99mv.png\")"
   ]
  },
  {
   "cell_type": "code",
   "execution_count": 155,
   "metadata": {},
   "outputs": [],
   "source": [
    "def model():\n",
    "    rain = pyro.sample(\"rain\", dist.Categorical(torch.tensor([0.8, 0.2])))\n",
    "    \n",
    "    p_sprinkler = torch.tensor([[0.6, 0.4], [0.99,0.01]])\n",
    "    p_wet = torch.tensor([[[1, 0],[0.2,0.8]],[[0.1, 0.9],[0.01, 0.99]]])\n",
    "    \n",
    "    sprinkler = pyro.sample(\"sprinkler\",\n",
    "                            dist.Categorical(p_sprinkler[rain]))\n",
    "\n",
    "    wet = pyro.sample(\"wet\", \n",
    "                      dist.Categorical(p_wet[sprinkler][rain]))\n",
    "                            \n",
    "    return rain.item(), sprinkler.item(), wet.item()"
   ]
  },
  {
   "cell_type": "code",
   "execution_count": 115,
   "metadata": {},
   "outputs": [],
   "source": [
    "samples = [model() for _ in range (10000)]"
   ]
  },
  {
   "cell_type": "code",
   "execution_count": 116,
   "metadata": {},
   "outputs": [],
   "source": [
    "samples_df = pd.DataFrame(samples, columns=['rain', 'sprinkler', 'wet'])"
   ]
  },
  {
   "cell_type": "markdown",
   "metadata": {},
   "source": [
    "Rain = True "
   ]
  },
  {
   "cell_type": "code",
   "execution_count": 117,
   "metadata": {},
   "outputs": [
    {
     "data": {
      "text/plain": [
       "0.2039"
      ]
     },
     "execution_count": 117,
     "metadata": {},
     "output_type": "execute_result"
    }
   ],
   "source": [
    "samples_df.query(\"rain == 1\").shape[0] / samples_df.shape[0]"
   ]
  },
  {
   "cell_type": "markdown",
   "metadata": {},
   "source": [
    "Sprinkler = True & Rain = True"
   ]
  },
  {
   "cell_type": "code",
   "execution_count": 118,
   "metadata": {},
   "outputs": [
    {
     "data": {
      "text/plain": [
       "0.010299166257969592"
      ]
     },
     "execution_count": 118,
     "metadata": {},
     "output_type": "execute_result"
    }
   ],
   "source": [
    "samples_df.query(\"rain == 1 & sprinkler == 1\").shape[0] / samples_df.query(\"rain==1\").shape[0]"
   ]
  },
  {
   "cell_type": "markdown",
   "metadata": {},
   "source": [
    "Sprinkler = True & Rain = False"
   ]
  },
  {
   "cell_type": "code",
   "execution_count": 119,
   "metadata": {},
   "outputs": [
    {
     "data": {
      "text/plain": [
       "0.3995729179751287"
      ]
     },
     "execution_count": 119,
     "metadata": {},
     "output_type": "execute_result"
    }
   ],
   "source": [
    "samples_df.query(\"rain == 0 & sprinkler ==1\").shape[0] / samples_df.query(\"rain==0\").shape[0]"
   ]
  },
  {
   "cell_type": "markdown",
   "metadata": {},
   "source": [
    "Sprinkler = True & Rain = False & Wet = False"
   ]
  },
  {
   "cell_type": "code",
   "execution_count": 120,
   "metadata": {},
   "outputs": [
    {
     "data": {
      "text/plain": [
       "0.095881798176674"
      ]
     },
     "execution_count": 120,
     "metadata": {},
     "output_type": "execute_result"
    }
   ],
   "source": [
    "samples_df.query(\"rain == 0 & sprinkler ==1 & wet == 0\").shape[0] / samples_df.query(\"rain==0 & sprinkler==1\").shape[0]"
   ]
  },
  {
   "cell_type": "markdown",
   "metadata": {},
   "source": [
    "Confirmed correct"
   ]
  },
  {
   "cell_type": "code",
   "execution_count": 156,
   "metadata": {},
   "outputs": [],
   "source": [
    "conditioned_model = pyro.condition(model, data={'wet': torch.tensor(1)})"
   ]
  },
  {
   "cell_type": "code",
   "execution_count": 157,
   "metadata": {},
   "outputs": [],
   "source": [
    "posterior = pyro.infer.Importance(conditioned_model, num_samples=5000).run()"
   ]
  },
  {
   "cell_type": "code",
   "execution_count": 158,
   "metadata": {},
   "outputs": [],
   "source": [
    "marginal = pyro.infer.EmpiricalMarginal(posterior, sites=[\"rain\"])"
   ]
  },
  {
   "cell_type": "code",
   "execution_count": 159,
   "metadata": {},
   "outputs": [],
   "source": [
    "rain_samples = np.array([marginal().item() for _ in range(10000)])"
   ]
  },
  {
   "cell_type": "code",
   "execution_count": 160,
   "metadata": {},
   "outputs": [
    {
     "data": {
      "text/plain": [
       "0.3554"
      ]
     },
     "execution_count": 160,
     "metadata": {},
     "output_type": "execute_result"
    }
   ],
   "source": [
    "rain_samples.mean()"
   ]
  },
  {
   "cell_type": "code",
   "execution_count": 152,
   "metadata": {},
   "outputs": [],
   "source": [
    "marginal = pyro.infer.EmpiricalMarginal(posterior, sites=[\"sprinkler\"])"
   ]
  },
  {
   "cell_type": "code",
   "execution_count": 153,
   "metadata": {},
   "outputs": [
    {
     "data": {
      "text/plain": [
       "0.6502"
      ]
     },
     "execution_count": 153,
     "metadata": {},
     "output_type": "execute_result"
    }
   ],
   "source": [
    "np.array([marginal().item() for _ in range(10000)]).mean()"
   ]
  },
  {
   "cell_type": "markdown",
   "metadata": {},
   "source": [
    "---"
   ]
  },
  {
   "cell_type": "markdown",
   "metadata": {},
   "source": [
    "### Using SVI instead of Importance Sampling"
   ]
  },
  {
   "cell_type": "code",
   "execution_count": 141,
   "metadata": {},
   "outputs": [],
   "source": [
    "def model(rain_prob, sprinkler_prob):\n",
    "    rain = pyro.sample(\"rain\", dist.Bernoulli(rain_prob))\n",
    "    p_wet = torch.tensor([[[1, 0],[0.2,0.8]],[[0.1, 0.9],[0.01, 0.99]]])\n",
    "\n",
    "    sprinkler = pyro.sample(\"sprinkler\", dist.Bernoulli(sprinkler_prob))\n",
    "    wet = pyro.sample(\"wet\", \n",
    "                      dist.Categorical(p_wet[sprinkler.long()][rain.long()]))\n",
    "                            \n",
    "    return rain.item(), sprinkler.item(), wet.item()"
   ]
  },
  {
   "cell_type": "code",
   "execution_count": 142,
   "metadata": {},
   "outputs": [],
   "source": [
    "def model_guide(rain_prob, sprinkler_prob):\n",
    "    rain_prob = pyro.param('rain_prob', rain_prob, constraint=constraints.unit_interval)\n",
    "    sprinkler_prob = pyro.param('sprinkler_prob', sprinkler_prob, constraint=constraints.unit_interval)\n",
    "    try:\n",
    "        rain = pyro.sample('rain', dist.Bernoulli(rain_prob))\n",
    "    except RuntimeError as e:\n",
    "        print(\"rain_prob: {}\".format(rain_prob))\n",
    "        raise e\n",
    "    sprinkler = pyro.sample('sprinkler', dist.Bernoulli(sprinkler_prob))"
   ]
  },
  {
   "cell_type": "code",
   "execution_count": 147,
   "metadata": {},
   "outputs": [],
   "source": [
    "def svi_test():\n",
    "\train_prob_prior = torch.tensor(.2)\n",
    "\tsprinkler_prob_prior = torch.tensor(.4)\n",
    "\tconditioned_lawn = pyro.condition(model, data={\"wet\":torch.tensor([1.])})\n",
    "\t# guide = AutoGuide(lawn)\n",
    "\t# set up the optimizer\n",
    "\tadam_params = {\"lr\": 0.05, \"betas\": (0.90, 0.999)}\n",
    "\toptimizer = Adam(adam_params)\n",
    "\n",
    "\t# setup the inference algorithm\n",
    "\tsvi = SVI(conditioned_lawn, model_guide, optimizer, loss=pyro.infer.Trace_ELBO())\n",
    "\n",
    "\tn_steps = 5000\n",
    "\t# do gradient steps\n",
    "\tfor step in range(n_steps):\n",
    "\t\tsvi.step(rain_prob_prior, sprinkler_prob_prior)\n",
    "\t\tif step % 1000 == 0:\n",
    "\t\t\tprint(\"step: \", step)\n",
    "\t\t\tfor p in ['rain_prob', 'sprinkler_prob']:\n",
    "\t\t\t\tprint(p, \": \", pyro.param(p).item())\n",
    "\tfor p in ['rain_prob', 'sprinkler_prob']:\n",
    "\t\tprint(p, \": \", pyro.param(p).item())"
   ]
  },
  {
   "cell_type": "code",
   "execution_count": 154,
   "metadata": {},
   "outputs": [
    {
     "name": "stdout",
     "output_type": "stream",
     "text": [
      "step:  0\n",
      "rain_prob :  0.20812010765075684\n",
      "sprinkler_prob :  0.4120577871799469\n",
      "step:  1000\n",
      "rain_prob :  0.26252007484436035\n",
      "sprinkler_prob :  0.9929171800613403\n",
      "step:  2000\n",
      "rain_prob :  0.24675895273685455\n",
      "sprinkler_prob :  0.9966957569122314\n",
      "step:  3000\n",
      "rain_prob :  0.20035420358181\n",
      "sprinkler_prob :  0.9978237152099609\n",
      "step:  4000\n",
      "rain_prob :  0.16417889297008514\n",
      "sprinkler_prob :  0.9994780421257019\n",
      "rain_prob :  0.17275157570838928\n",
      "sprinkler_prob :  0.9994427561759949\n"
     ]
    }
   ],
   "source": [
    "pyro.clear_param_store()\n",
    "svi_test()"
   ]
  },
  {
   "cell_type": "code",
   "execution_count": null,
   "metadata": {},
   "outputs": [],
   "source": []
  }
 ],
 "metadata": {
  "kernelspec": {
   "display_name": "Python 3",
   "language": "python",
   "name": "python3"
  },
  "language_info": {
   "codemirror_mode": {
    "name": "ipython",
    "version": 3
   },
   "file_extension": ".py",
   "mimetype": "text/x-python",
   "name": "python",
   "nbconvert_exporter": "python",
   "pygments_lexer": "ipython3",
   "version": "3.8.3"
  }
 },
 "nbformat": 4,
 "nbformat_minor": 4
}
